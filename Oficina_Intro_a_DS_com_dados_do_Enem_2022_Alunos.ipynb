{
  "nbformat": 4,
  "nbformat_minor": 0,
  "metadata": {
    "colab": {
      "provenance": [],
      "authorship_tag": "ABX9TyPEfyIjAJKHV2VaV/RlV9Oh",
      "include_colab_link": true
    },
    "kernelspec": {
      "name": "python3",
      "display_name": "Python 3"
    },
    "language_info": {
      "name": "python"
    }
  },
  "cells": [
    {
      "cell_type": "markdown",
      "metadata": {
        "id": "view-in-github",
        "colab_type": "text"
      },
      "source": [
        "<a href=\"https://colab.research.google.com/github/mvoassis/enem2022/blob/main/Oficina_Intro_a_DS_com_dados_do_Enem_2022_Alunos.ipynb\" target=\"_parent\"><img src=\"https://colab.research.google.com/assets/colab-badge.svg\" alt=\"Open In Colab\"/></a>"
      ]
    },
    {
      "cell_type": "markdown",
      "source": [
        "# Transforme Dados em Conhecimento: Oficina de introdução a Data Science com dados do ENEM 2022\n",
        "\n",
        "> Prof. Dr. Marcos Assis. (marcos.assis@ufpr.br)\n",
        "\n"
      ],
      "metadata": {
        "id": "hdWq6d7Add7w"
      }
    },
    {
      "cell_type": "markdown",
      "source": [
        "# Base de dados\n",
        "\n",
        "* Microdados do Enem 2022 - [Acesse aqui](https://www.gov.br/inep/pt-br/acesso-a-informacao/dados-abertos/microdados/enem)\n",
        "\n",
        "Os microdados do Enem são o menor nível de desagregação de dados recolhidos por meio do exame. Eles atendem a demanda por informações específicas ao disponibilizar as provas, os gabaritos, as informações sobre os itens, as notas e o questionário respondido pelos inscritos no Enem.\n",
        "\n",
        "> Utilizaremos dados amostrados (questão de agilidade), mas podem replicar com os dados completos posteriormente e avaliar os resultados (não devem mudar muito ;) )\n",
        "\n",
        "* Dicionário dos dados:\n",
        "* Dados amostrados: (Não precisa baixar os dados, vamos carregar direto do link)\n"
      ],
      "metadata": {
        "id": "53G33v3AdldB"
      }
    },
    {
      "cell_type": "code",
      "source": [
        "import requests, zipfile, io\n",
        "r = requests.get('https://dl.dropboxusercontent.com/s/qgwokkotdiob52b/MICRODADOS_ENEM_2022_reduzido.zip?dl=0')\n",
        "z = zipfile.ZipFile(io.BytesIO(r.content))\n",
        "z.extractall(\"/content/\")"
      ],
      "metadata": {
        "id": "LD2vq8BSvT1q"
      },
      "execution_count": null,
      "outputs": []
    },
    {
      "cell_type": "markdown",
      "source": [
        "# Pandas\n",
        "\n",
        "A biblioteca pandas é uma poderosa ferramenta de análise de dados em Python. Ela fornece estruturas de dados flexíveis e eficientes, como o DataFrame, que permite manipular e analisar conjuntos de dados de forma intuitiva. Com o pandas, é possível realizar tarefas comuns de limpeza, transformação e manipulação de dados, além de executar operações estatísticas e de agregação. É uma biblioteca amplamente utilizada em ciência de dados e análise de dados.\n",
        "\n",
        "Documentação da lib: https://pandas.pydata.org/docs/\n",
        "\n",
        "> Carregando a biblioteca Pandas:"
      ],
      "metadata": {
        "id": "Lp1uJQRjfEiy"
      }
    },
    {
      "cell_type": "code",
      "source": [],
      "metadata": {
        "id": "Kzmhr5NqXWnJ"
      },
      "execution_count": null,
      "outputs": []
    },
    {
      "cell_type": "markdown",
      "source": [
        "## Carregando o arquivo \n",
        "\n",
        "Carregaremos o arquivo .csv para o formato DataFrame do Pandas.\n",
        "\n",
        "> read_csv()\n",
        "\n",
        "> head()"
      ],
      "metadata": {
        "id": "qr3St6tlW-e0"
      }
    },
    {
      "cell_type": "code",
      "source": [],
      "metadata": {
        "id": "hfZhIT_zfD47"
      },
      "execution_count": null,
      "outputs": []
    },
    {
      "cell_type": "markdown",
      "source": [
        "## Conhecendo os dados\n",
        "\n",
        "Precisamos entender melhor nossos dados para poder entender se precisamos realizar algum pré-processamento.\n",
        "\n",
        "> info()"
      ],
      "metadata": {
        "id": "fzIFSd5tXmxb"
      }
    },
    {
      "cell_type": "code",
      "execution_count": null,
      "metadata": {
        "id": "O7BSP-4PXyaP"
      },
      "outputs": [],
      "source": []
    },
    {
      "cell_type": "markdown",
      "source": [
        "Vamos deletar a primeira coluna, que não faz sentido em nossa análise."
      ],
      "metadata": {
        "id": "GdumTLrHb_8q"
      }
    },
    {
      "cell_type": "code",
      "source": [],
      "metadata": {
        "id": "pD4mzsBAcIQG"
      },
      "execution_count": null,
      "outputs": []
    },
    {
      "cell_type": "code",
      "source": [],
      "metadata": {
        "id": "c6UzJQL1cY2N"
      },
      "execution_count": null,
      "outputs": []
    },
    {
      "cell_type": "markdown",
      "source": [
        "# Análises iniciais\n",
        "\n",
        "### Dados dos participantes\n",
        "\n",
        "* participação por faixa etária\n",
        "* participação por sexo\n",
        "* participação por cor/raça\n",
        "* participação por tipo de escola do ensino médio\n",
        "* proporção de treineiros"
      ],
      "metadata": {
        "id": "jCQHqWWVYjdM"
      }
    },
    {
      "cell_type": "markdown",
      "source": [
        "## Participação por faixa etária (TP_FAIXA_ETARIA)\n",
        "\n",
        "> unique()\n",
        "\n",
        "> map()\n",
        "\n",
        "> value_counts()"
      ],
      "metadata": {
        "id": "idz59BNEZ9Ab"
      }
    },
    {
      "cell_type": "markdown",
      "source": [
        "Verificando quais os diferentes valores existem nesse campo do DataFrame."
      ],
      "metadata": {
        "id": "_F0jwG6matip"
      }
    },
    {
      "cell_type": "code",
      "source": [],
      "metadata": {
        "id": "EQ0wypytZAjp"
      },
      "execution_count": null,
      "outputs": []
    },
    {
      "cell_type": "markdown",
      "source": [
        "Utilizando um dicionário python, vamos criar uma nova coluna em nosso dataframe que seja mais amigável para nossa análise."
      ],
      "metadata": {
        "id": "yHW77VC3a0Z6"
      }
    },
    {
      "cell_type": "code",
      "source": [
        "dict_faixa_etaria = {\n",
        "    1: 'Menor de 17 anos',\n",
        "    2: '17 anos',\n",
        "    3: '18 anos',\n",
        "    4: '19 anos',\n",
        "    5: '20 anos',\n",
        "    6: '21 anos',\n",
        "    7: '22 anos',\n",
        "    8: '23 anos',\n",
        "    9: '24 anos',\n",
        "    10: '25 anos',\n",
        "    11: 'Entre 26 e 30 anos',\n",
        "    12: 'Entre 31 e 35 anos',\n",
        "    13: 'Entre 36 e 40 anos',\n",
        "    14: 'Entre 41 e 45 anos',\n",
        "    15: 'Entre 46 e 50 anos',\n",
        "    16: 'Entre 51 e 55 anos',\n",
        "    17: 'Entre 56 e 60 anos',\n",
        "    18: 'Entre 61 e 65 anos',\n",
        "    19: 'Entre 66 e 70 anos',\n",
        "    20: 'Maior de 70 anos',\n",
        "       }"
      ],
      "metadata": {
        "id": "fdsdCSR5an1a"
      },
      "execution_count": null,
      "outputs": []
    },
    {
      "cell_type": "code",
      "source": [],
      "metadata": {
        "id": "LjM0tuEnbMSK"
      },
      "execution_count": null,
      "outputs": []
    },
    {
      "cell_type": "code",
      "source": [],
      "metadata": {
        "id": "qsRUfQ4HbTS6"
      },
      "execution_count": null,
      "outputs": []
    },
    {
      "cell_type": "markdown",
      "source": [
        "Verificando quantos registros temos por idade"
      ],
      "metadata": {
        "id": "4noXQnDtc3-G"
      }
    },
    {
      "cell_type": "code",
      "source": [],
      "metadata": {
        "id": "qwmV45GVc4GN"
      },
      "execution_count": null,
      "outputs": []
    },
    {
      "cell_type": "markdown",
      "source": [
        "Visualizando os dados na forma de gráficos"
      ],
      "metadata": {
        "id": "swzA1lzZf-rp"
      }
    },
    {
      "cell_type": "code",
      "source": [],
      "metadata": {
        "id": "DdRRL4pJfikr"
      },
      "execution_count": null,
      "outputs": []
    },
    {
      "cell_type": "markdown",
      "source": [
        "Plotando com a biblioteca *matplotlib*:"
      ],
      "metadata": {
        "id": "RsrHeKjng28A"
      }
    },
    {
      "cell_type": "code",
      "source": [
        "# Forma 1\n"
      ],
      "metadata": {
        "id": "gAvmSXJdgVRd"
      },
      "execution_count": null,
      "outputs": []
    },
    {
      "cell_type": "code",
      "source": [
        "# Forma 2\n"
      ],
      "metadata": {
        "id": "QWQbLjNltIaS"
      },
      "execution_count": null,
      "outputs": []
    },
    {
      "cell_type": "code",
      "source": [
        "import matplotlib.pyplot as plt"
      ],
      "metadata": {
        "id": "OjJqeeQZgxz3"
      },
      "execution_count": null,
      "outputs": []
    },
    {
      "cell_type": "code",
      "source": [
        "def plota_grafico(dados_plot, titulo=None, xlabel=None, ylabel=None):\n",
        "    pass"
      ],
      "metadata": {
        "id": "FCH3nrvmhBWl"
      },
      "execution_count": null,
      "outputs": []
    },
    {
      "cell_type": "code",
      "source": [],
      "metadata": {
        "id": "SMzIYRQRovnk"
      },
      "execution_count": null,
      "outputs": []
    },
    {
      "cell_type": "markdown",
      "source": [
        "## Participação por sexo (TP_SEXO)\n"
      ],
      "metadata": {
        "id": "OaZf9Wh_t6sf"
      }
    },
    {
      "cell_type": "code",
      "source": [],
      "metadata": {
        "id": "zp2ZHy0puA_L"
      },
      "execution_count": null,
      "outputs": []
    },
    {
      "cell_type": "code",
      "source": [],
      "metadata": {
        "id": "3B6d1GvLuGNh"
      },
      "execution_count": null,
      "outputs": []
    },
    {
      "cell_type": "code",
      "source": [],
      "metadata": {
        "id": "ZtD1b20_uPnC"
      },
      "execution_count": null,
      "outputs": []
    },
    {
      "cell_type": "markdown",
      "source": [
        "## Participação por raça/cor (TP_COR_RACA)\n",
        "\n",
        "\n",
        "Criando outra coluna com os dados não codificados, usando o map():\n"
      ],
      "metadata": {
        "id": "O_K0Cc4suZfl"
      }
    },
    {
      "cell_type": "code",
      "source": [
        "dict_raca_cor = {\n",
        "    0: 'Não declarado',\n",
        "    1: 'Branca',\n",
        "    2: 'Preta',\n",
        "    3: 'Parda',\n",
        "    4: 'Amarela',\n",
        "    5: 'Indígena',\n",
        "    6: 'Não dispõe da informação',\n",
        "       }"
      ],
      "metadata": {
        "id": "tbTSJlTiudj-"
      },
      "execution_count": null,
      "outputs": []
    },
    {
      "cell_type": "code",
      "source": [],
      "metadata": {
        "id": "_KbOg7CWufp3"
      },
      "execution_count": null,
      "outputs": []
    },
    {
      "cell_type": "markdown",
      "source": [
        "Calculando a porcentagem por raça/cor, utilizando value_counts():"
      ],
      "metadata": {
        "id": "CzpR04AHv1Qr"
      }
    },
    {
      "cell_type": "code",
      "source": [],
      "metadata": {
        "id": "JDYA83d9uhny"
      },
      "execution_count": null,
      "outputs": []
    },
    {
      "cell_type": "markdown",
      "source": [
        "Plotando o gráfico para visualizar os dados:"
      ],
      "metadata": {
        "id": "jJxbxWklv8rN"
      }
    },
    {
      "cell_type": "code",
      "source": [],
      "metadata": {
        "id": "ySuGy3eIvofr"
      },
      "execution_count": null,
      "outputs": []
    },
    {
      "cell_type": "markdown",
      "source": [
        "## Participação por Tipo de Escola no Ensino Médio (TP_ESCOLA)\n",
        "\n",
        "Mesmos passos..."
      ],
      "metadata": {
        "id": "hF8pTzfwwAkA"
      }
    },
    {
      "cell_type": "code",
      "source": [],
      "metadata": {
        "id": "Z0K0jPw8vtbR"
      },
      "execution_count": null,
      "outputs": []
    },
    {
      "cell_type": "code",
      "source": [],
      "metadata": {
        "id": "NjBJMWGzwPkx"
      },
      "execution_count": null,
      "outputs": []
    },
    {
      "cell_type": "code",
      "source": [],
      "metadata": {
        "id": "zuK6UIjNwRKz"
      },
      "execution_count": null,
      "outputs": []
    },
    {
      "cell_type": "code",
      "source": [],
      "metadata": {
        "id": "NFCYvU5JwY0k"
      },
      "execution_count": null,
      "outputs": []
    },
    {
      "cell_type": "markdown",
      "source": [
        "## Participação de Treineiros (IN_TREINEIRO)\n"
      ],
      "metadata": {
        "id": "ZspO3oOfxbGw"
      }
    },
    {
      "cell_type": "code",
      "source": [],
      "metadata": {
        "id": "YotlWeWrxA_K"
      },
      "execution_count": null,
      "outputs": []
    },
    {
      "cell_type": "code",
      "source": [],
      "metadata": {
        "id": "gUq7ma37xpZl"
      },
      "execution_count": null,
      "outputs": []
    },
    {
      "cell_type": "markdown",
      "source": [
        "# Análises de Notas\n",
        "\n",
        "Levando em conta Matemática ('NU_NOTA_MT')\n",
        "\n",
        "> Estatísticas Descritivas\n",
        "* Estatísticas por Estado\n",
        "* Estatisticas por Tipo de Escola no Ensino médio\n",
        "* Estatisticas por renda mensal da família\n",
        "* Estatisticas para quem possui ou não computador em casa. \n",
        "\n",
        "\n"
      ],
      "metadata": {
        "id": "ov0ESof7zGGr"
      }
    },
    {
      "cell_type": "markdown",
      "source": [
        "## Notas de Matemática por Estado (SG_UF_ESC)\n",
        "\n",
        "> groupby()\n",
        "\n",
        "> describe()\n"
      ],
      "metadata": {
        "id": "WXOQ-llLzUiZ"
      }
    },
    {
      "cell_type": "markdown",
      "source": [
        "Primeiro, vamos agrupar os dados por Estado utilizando a função groupby():"
      ],
      "metadata": {
        "id": "3bLpX2gyzwsz"
      }
    },
    {
      "cell_type": "code",
      "source": [],
      "metadata": {
        "id": "UAKHGk7ozvsA"
      },
      "execution_count": null,
      "outputs": []
    },
    {
      "cell_type": "markdown",
      "source": [
        "Este comando vai agrupar os dados do nosso DataFrame com base nos diferentes valores de Estado. \n",
        "\n",
        "Em seguida, vamos selecionar apenas a coluna de notas em matemática (que é o que nos interessa)"
      ],
      "metadata": {
        "id": "aWADyqi-z_-q"
      }
    },
    {
      "cell_type": "code",
      "source": [],
      "metadata": {
        "id": "RHCqjav_x6MN"
      },
      "execution_count": null,
      "outputs": []
    },
    {
      "cell_type": "markdown",
      "source": [
        "Por fim, podemos gerar estatísticas descritivas das informações selecionadas com diversos comandos, como:\n",
        "\n",
        "* mean (média)\n",
        "* count (contagem)\n",
        "* std (desvio padrão)\n",
        "\n",
        "Ou, como é nosso caso, podemos gerar uma visão resumida de todas essas informações de uma vez, no formato de um DataFrame, utilizando a função describe():"
      ],
      "metadata": {
        "id": "lD55GYKg0uo5"
      }
    },
    {
      "cell_type": "code",
      "source": [],
      "metadata": {
        "id": "ZcV0WyXQ0ptq"
      },
      "execution_count": null,
      "outputs": []
    },
    {
      "cell_type": "markdown",
      "source": [
        "Por mais que os dados estejam aí, como são muitos, as vezes avaliar uma tabela pode ser complicado. Por isso, vamos utilizar um outro tipo de gráfico, chamado **boxplot**.\n",
        "\n"
      ],
      "metadata": {
        "id": "ETCDV7sj1Mgy"
      }
    },
    {
      "cell_type": "markdown",
      "source": [
        "![Boxplot-04.png](data:image/png;base64,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)"
      ],
      "metadata": {
        "id": "51IEsbYGio3U"
      }
    },
    {
      "cell_type": "markdown",
      "source": [
        "Para isso, vamos usar a biblioteca Seaborn.\n",
        "\n",
        "Importando a biblioteca:"
      ],
      "metadata": {
        "id": "zW2TY_z4inX-"
      }
    },
    {
      "cell_type": "code",
      "source": [],
      "metadata": {
        "id": "8TVvP8C61Fpo"
      },
      "execution_count": null,
      "outputs": []
    },
    {
      "cell_type": "markdown",
      "source": [
        "Plotando o gráfico:"
      ],
      "metadata": {
        "id": "NEe9BECx1esL"
      }
    },
    {
      "cell_type": "code",
      "source": [],
      "metadata": {
        "id": "VWjmPVmX1dtY"
      },
      "execution_count": null,
      "outputs": []
    },
    {
      "cell_type": "markdown",
      "source": [
        "Já temos muitas informações legais, mas ainda está difícil comparar o desempenho dos estados.\n",
        "\n",
        "Para melhorar nossa visualização, vamos ordenar o gráfico pelas medianas.\n",
        "\n",
        "Primeiro, criaremos uma lista com os índices (nomes dos estados) ordenados por seus valores de mediana, do maior para o menor:"
      ],
      "metadata": {
        "id": "tkewUQot13q0"
      }
    },
    {
      "cell_type": "code",
      "source": [],
      "metadata": {
        "id": "zQEHrQVY2Iyl"
      },
      "execution_count": null,
      "outputs": []
    },
    {
      "cell_type": "markdown",
      "source": [
        "Agora, acrescentaremos o parâmetro 'order' na função boxplot para ordenar a visualização de acordo com esses dados:"
      ],
      "metadata": {
        "id": "47EnknKO25-I"
      }
    },
    {
      "cell_type": "code",
      "source": [],
      "metadata": {
        "id": "jfPhPbkj3CFS"
      },
      "execution_count": null,
      "outputs": []
    },
    {
      "cell_type": "markdown",
      "source": [
        "## Notas de Matemática por Tipo de Escola (TP_ESCOLA_COMP)\n",
        "\n",
        "Podemos utilizar o mesmo caminho para extrair essas informações:"
      ],
      "metadata": {
        "id": "5jGydpCl3mGN"
      }
    },
    {
      "cell_type": "code",
      "source": [],
      "metadata": {
        "id": "arZDnEyK3FEK"
      },
      "execution_count": null,
      "outputs": []
    },
    {
      "cell_type": "code",
      "source": [],
      "metadata": {
        "id": "ohWXCCSb32sp"
      },
      "execution_count": null,
      "outputs": []
    },
    {
      "cell_type": "markdown",
      "source": [
        "## Notas de Matemática por Renda Mensal da Família (Q006)\n",
        "\n",
        "Mesmos procedimentos realizados anteriormente. Entretanto, como é um campo codificado, precisamos criar outra coluna em nosso DataFrame para facilitar nossa analise (procedimento usando map() e dicionarios):"
      ],
      "metadata": {
        "id": "fasBzdNE4Ibu"
      }
    },
    {
      "cell_type": "code",
      "source": [
        "dict_renda = {\n",
        "    'A': 'Nenhuma Renda',\n",
        "    'B': 'Até R$ 1.100,00',\n",
        "    'C': 'De R$ 1.100,01 até R\\$ 1.650,00',\n",
        "    'D': 'De R$ 1.650,01 até R$ 2.200,00',\n",
        "    'E': 'De R$ 2.200,01 até R$ 2.750,00',\n",
        "    'F': 'De R$ 2.750,01 até R$ 3.300,00',\n",
        "    'G': 'De R$ 3.300,01 até R$ 4.400,00',\n",
        "    'H': 'De R$ 4.400,01 até R$ 5.500,00',\n",
        "    'I': 'De R$ 5.500,01 até R$ 6.600,00',\n",
        "    'J': 'De R$ 6.600,01 até R$ 7.700,00',\n",
        "    'K': 'De R$ 7.700,01 até R$ 8.800,00',\n",
        "    'L': 'De R$ 8.800,01 até R$ 9.900,00',\n",
        "    'M': 'De R$ 9.900,01 até R$ 11.000,00',\n",
        "    'N': 'De R$ 11.000,01 até R$ 13.200,00',\n",
        "    'O': 'De R$ 13.200,01 até R$ 16.500,00',\n",
        "    'P': 'De R$ 16.500,01 até R$ 22.000,00',\n",
        "    'Q': 'Acima de R$ 22.000,00',\n",
        "}\n",
        "\n",
        "dict_renda_num = {\n",
        "    'A': 0,\n",
        "    'B': 1100,\n",
        "    'C': 1650,\n",
        "    'D': 2200,\n",
        "    'E': 2750,\n",
        "    'F': 3300,\n",
        "    'G': 4400,\n",
        "    'H': 5500,\n",
        "    'I': 6600,\n",
        "    'J': 7700,\n",
        "    'K': 8800,\n",
        "    'L': 9900,\n",
        "    'M': 11000,\n",
        "    'N': 13200,\n",
        "    'O': 16500,\n",
        "    'P': 22000,\n",
        "    'Q': 30000,\n",
        "}\n"
      ],
      "metadata": {
        "id": "IRHtqr5R36Ms"
      },
      "execution_count": null,
      "outputs": []
    },
    {
      "cell_type": "code",
      "source": [],
      "metadata": {
        "id": "udQ_Uz_q4qrg"
      },
      "execution_count": null,
      "outputs": []
    },
    {
      "cell_type": "markdown",
      "source": [
        "Gerando estatísticas descritivas com o describe()"
      ],
      "metadata": {
        "id": "eQqiY30s5Qmf"
      }
    },
    {
      "cell_type": "code",
      "source": [],
      "metadata": {
        "id": "OEkjhP-N4v66"
      },
      "execution_count": null,
      "outputs": []
    },
    {
      "cell_type": "markdown",
      "source": [
        "Plotando o boxplot ordenado pela mediana:"
      ],
      "metadata": {
        "id": "ZXZsCnyd5UwY"
      }
    },
    {
      "cell_type": "code",
      "source": [],
      "metadata": {
        "id": "tmsirJZe4zoF"
      },
      "execution_count": null,
      "outputs": []
    },
    {
      "cell_type": "code",
      "source": [],
      "metadata": {
        "id": "ZKYhsxMS5ebZ"
      },
      "execution_count": null,
      "outputs": []
    },
    {
      "cell_type": "markdown",
      "source": [
        "## Notas de Matemática por quem tem ou não computador em casa (Q025)\n",
        "\n",
        "Assim como no caso do treineiro, podemos rotular informações direto no gráfico:"
      ],
      "metadata": {
        "id": "uYu9AiMrEnPi"
      }
    },
    {
      "cell_type": "code",
      "source": [],
      "metadata": {
        "id": "js8IOn7WGPV8"
      },
      "execution_count": null,
      "outputs": []
    },
    {
      "cell_type": "code",
      "source": [],
      "metadata": {
        "id": "09zYuuwtEyUD"
      },
      "execution_count": null,
      "outputs": []
    },
    {
      "cell_type": "markdown",
      "source": [
        "# Predição simples.\n",
        "\n",
        "Nosso objetivo é tentar realizar uma previsão simples da nota de um aluno em Matemática ('NU_NOTA_MT') com base em suas outras notas e quaisquer outras informações relevantes de nosso dataset. \n",
        "\n",
        "Assim, esse é um problema de regressão:\n",
        "\n",
        "> Um problema de regressão refere-se a um tipo de tarefa de aprendizado de máquina em que o objetivo é prever um valor contínuo ou quantitativo com base em um conjunto de variáveis de entrada. A regressão busca estabelecer uma relação funcional entre os atributos de entrada e a variável de saída, permitindo fazer previsões numéricas.\n",
        "\n",
        "Nosso objetivo não é criar um preditor ótimo (por conta do tempo), mas sim mostrar o processo para se construir um preditor bastante simples. \n",
        "\n",
        "Para isso, iremos: \n",
        "\n",
        "* Excluir de nossa avaliação registros que de alunos que não possuam nota em Matemática.\n",
        "* Identificar quais colunas de nosso DataFrame podem nos auxiliar a prever este valor. \n",
        "* Treinar um modelo de Machine Learning\n",
        "* Implementar o modelo em uma GUI simples\n",
        "\n",
        "\n"
      ],
      "metadata": {
        "id": "pBNuKLzGGhbx"
      }
    },
    {
      "cell_type": "markdown",
      "source": [
        "## Remover alunos sem nota de matemática.\n",
        "\n",
        "Não faz sentido mantermos no nosso dataset registros de alunos que faltaram na prova de matemática, ou não a realizaram por qualquer motivo:\n"
      ],
      "metadata": {
        "id": "c9p6gXdGK_Eo"
      }
    },
    {
      "cell_type": "code",
      "source": [],
      "metadata": {
        "id": "y5PRHKPHLMhM"
      },
      "execution_count": null,
      "outputs": []
    },
    {
      "cell_type": "markdown",
      "source": [
        "Uma forma simples de excluir esses dados é utilizando a função dropna(), e utilizar o parâmetro \"subset\" para definir quais colunas considerar:"
      ],
      "metadata": {
        "id": "YuXVYV7LLqzX"
      }
    },
    {
      "cell_type": "code",
      "source": [],
      "metadata": {
        "id": "pUexhgTML4S-"
      },
      "execution_count": null,
      "outputs": []
    },
    {
      "cell_type": "code",
      "source": [],
      "metadata": {
        "id": "-IzuFReTLbeb"
      },
      "execution_count": null,
      "outputs": []
    },
    {
      "cell_type": "markdown",
      "source": [
        "Além disso, não podemos utilizar quaisquer valores que NaN ou Null em modelos de Machine Learning (na maioria dos casos). Então, vamos acabar retirando todas as linhas que possuem valores nulos, independente da coluna:"
      ],
      "metadata": {
        "id": "qeKxkWcaT8P3"
      }
    },
    {
      "cell_type": "code",
      "source": [],
      "metadata": {
        "id": "k2mMOTT6ULrU"
      },
      "execution_count": null,
      "outputs": []
    },
    {
      "cell_type": "markdown",
      "source": [
        "## Identificar colunas eficientes em explicar a nota de matemática\n",
        "\n",
        "Antes de iniciar a verificação, vamos converter alguns dados qualitativos em numéricos para que possamos avaliar a relação entre essas variáveis (Código já disponibilizado por conta do tempo, mas é o mesmo esquema de conversão utilizando .map()):\n",
        "\n",
        "> O ideal seria realizar a conversão de variáveis categóricas para numéricas para TODAS as colunas.. Mas, por questão de tempo, vamos chutar que as informações socio-econômicas já nos auxiliam o suficiente. "
      ],
      "metadata": {
        "id": "Bbxl42VaJaVQ"
      }
    },
    {
      "cell_type": "code",
      "source": [
        "# Convertendo Q001 e Q002 - estudos dos pais\n",
        "\n",
        "dict_estudo_pais = {\n",
        "    'A': 'Nunca estudou',\n",
        "    'B': 'Não completou 4a serie/5o ano do Ensino Fundamental',\n",
        "    'C': 'Completou 4a serie/5o ano, mas não completou a 8a serie/9o ano do Ensino Fundamental',\n",
        "    'D': 'Completou a 8a serie/9o ano do Ensino Fundamental, mas não completou o Ensino Médio',\n",
        "    'E': 'Completou o Ensino Médio, mas não completou a Faculdade',\n",
        "    'F': 'Completou a Faculdade, mas não completou Pós-Graduação',\n",
        "    'G': 'Completou a Pós-Graduação.',\n",
        "    'H': 'Não sei',\n",
        "}\n",
        "\n",
        "dict_estudo_pais_num = {\n",
        "    'A': 0,\n",
        "    'B': 2,\n",
        "    'C': 3,\n",
        "    'D': 4,\n",
        "    'E': 5,\n",
        "    'F': 6,\n",
        "    'G': 7,\n",
        "    'H': 1, \n",
        "}\n",
        "\n",
        "dados['Q001_COMP'] = dados['Q001'].map(dict_estudo_pais)\n",
        "dados['Q001_NUM'] = dados['Q001'].map(dict_estudo_pais_num)\n",
        "\n",
        "dados['Q002_COMP'] = dados['Q002'].map(dict_estudo_pais)\n",
        "dados['Q002_NUM'] = dados['Q002'].map(dict_estudo_pais_num)"
      ],
      "metadata": {
        "id": "FMZoTHLQJSKE"
      },
      "execution_count": null,
      "outputs": []
    },
    {
      "cell_type": "code",
      "source": [
        "# Convertendo todas as Q0XX que possuem 5 opções (da Q008 a Q025, menos 18, 20, 21 e 23)\n",
        "dict_tem_itens = {\n",
        "    'A': 0,\n",
        "    'B': 1,\n",
        "    'C': 2,\n",
        "    'D': 3,\n",
        "    'E': 4, #ou mais\n",
        "}\n",
        "\n",
        "for i in range(8,25):\n",
        "    if i in [18, 20, 21, 23]: continue\n",
        "    elif i<10:\n",
        "        dados[f'Q00{i}_NUM'] = dados[f'Q00{i}'].map(dict_tem_itens)\n",
        "    else:\n",
        "        dados[f'Q0{i}_NUM'] = dados[f'Q0{i}'].map(dict_tem_itens)\n",
        "\n",
        "dados['Q025_NUM'] = dados['Q025'].map({'A':0, 'B':1})\n",
        "\n",
        "dados.head()"
      ],
      "metadata": {
        "colab": {
          "base_uri": "https://localhost:8080/",
          "height": 299
        },
        "id": "Idn9Zp_GKAEk",
        "outputId": "059d2bb0-3d3b-4fa5-ee4b-4252a921e964"
      },
      "execution_count": null,
      "outputs": [
        {
          "output_type": "execute_result",
          "data": {
            "text/plain": [
              "    NU_INSCRICAO  NU_ANO  TP_FAIXA_ETARIA TP_SEXO  TP_ESTADO_CIVIL  \\\n",
              "2   210055944093    2022                2       M                1   \n",
              "3   210057529343    2022                2       M                1   \n",
              "9   210055692582    2022                2       F                1   \n",
              "11  210055454458    2022                3       F                1   \n",
              "12  210054664066    2022                2       F                1   \n",
              "\n",
              "    TP_COR_RACA  TP_NACIONALIDADE  TP_ST_CONCLUSAO  TP_ANO_CONCLUIU  \\\n",
              "2             1                 1                2                0   \n",
              "3             1                 1                2                0   \n",
              "9             1                 1                2                0   \n",
              "11            1                 1                2                0   \n",
              "12            2                 1                2                0   \n",
              "\n",
              "    TP_ESCOLA  ...  Q012_NUM  Q013_NUM  Q014_NUM Q015_NUM  Q016_NUM Q017_NUM  \\\n",
              "2           3  ...         1         0         1        0         1        0   \n",
              "3           3  ...         2         0         1        0         1        0   \n",
              "9           3  ...         1         1         0        0         1        0   \n",
              "11          2  ...         2         1         1        0         1        0   \n",
              "12          2  ...         1         0         0        0         0        0   \n",
              "\n",
              "    Q019_NUM  Q022_NUM  Q024_NUM  Q025_NUM  \n",
              "2          2         4         1         1  \n",
              "3          2         4         1         1  \n",
              "9          1         2         2         1  \n",
              "11         1         2         1         1  \n",
              "12         1         2         1         1  \n",
              "\n",
              "[5 rows x 99 columns]"
            ],
            "text/html": [
              "\n",
              "  <div id=\"df-aa60db7e-dd28-4be3-9b11-8f7fbcfb0d04\">\n",
              "    <div class=\"colab-df-container\">\n",
              "      <div>\n",
              "<style scoped>\n",
              "    .dataframe tbody tr th:only-of-type {\n",
              "        vertical-align: middle;\n",
              "    }\n",
              "\n",
              "    .dataframe tbody tr th {\n",
              "        vertical-align: top;\n",
              "    }\n",
              "\n",
              "    .dataframe thead th {\n",
              "        text-align: right;\n",
              "    }\n",
              "</style>\n",
              "<table border=\"1\" class=\"dataframe\">\n",
              "  <thead>\n",
              "    <tr style=\"text-align: right;\">\n",
              "      <th></th>\n",
              "      <th>NU_INSCRICAO</th>\n",
              "      <th>NU_ANO</th>\n",
              "      <th>TP_FAIXA_ETARIA</th>\n",
              "      <th>TP_SEXO</th>\n",
              "      <th>TP_ESTADO_CIVIL</th>\n",
              "      <th>TP_COR_RACA</th>\n",
              "      <th>TP_NACIONALIDADE</th>\n",
              "      <th>TP_ST_CONCLUSAO</th>\n",
              "      <th>TP_ANO_CONCLUIU</th>\n",
              "      <th>TP_ESCOLA</th>\n",
              "      <th>...</th>\n",
              "      <th>Q012_NUM</th>\n",
              "      <th>Q013_NUM</th>\n",
              "      <th>Q014_NUM</th>\n",
              "      <th>Q015_NUM</th>\n",
              "      <th>Q016_NUM</th>\n",
              "      <th>Q017_NUM</th>\n",
              "      <th>Q019_NUM</th>\n",
              "      <th>Q022_NUM</th>\n",
              "      <th>Q024_NUM</th>\n",
              "      <th>Q025_NUM</th>\n",
              "    </tr>\n",
              "  </thead>\n",
              "  <tbody>\n",
              "    <tr>\n",
              "      <th>2</th>\n",
              "      <td>210055944093</td>\n",
              "      <td>2022</td>\n",
              "      <td>2</td>\n",
              "      <td>M</td>\n",
              "      <td>1</td>\n",
              "      <td>1</td>\n",
              "      <td>1</td>\n",
              "      <td>2</td>\n",
              "      <td>0</td>\n",
              "      <td>3</td>\n",
              "      <td>...</td>\n",
              "      <td>1</td>\n",
              "      <td>0</td>\n",
              "      <td>1</td>\n",
              "      <td>0</td>\n",
              "      <td>1</td>\n",
              "      <td>0</td>\n",
              "      <td>2</td>\n",
              "      <td>4</td>\n",
              "      <td>1</td>\n",
              "      <td>1</td>\n",
              "    </tr>\n",
              "    <tr>\n",
              "      <th>3</th>\n",
              "      <td>210057529343</td>\n",
              "      <td>2022</td>\n",
              "      <td>2</td>\n",
              "      <td>M</td>\n",
              "      <td>1</td>\n",
              "      <td>1</td>\n",
              "      <td>1</td>\n",
              "      <td>2</td>\n",
              "      <td>0</td>\n",
              "      <td>3</td>\n",
              "      <td>...</td>\n",
              "      <td>2</td>\n",
              "      <td>0</td>\n",
              "      <td>1</td>\n",
              "      <td>0</td>\n",
              "      <td>1</td>\n",
              "      <td>0</td>\n",
              "      <td>2</td>\n",
              "      <td>4</td>\n",
              "      <td>1</td>\n",
              "      <td>1</td>\n",
              "    </tr>\n",
              "    <tr>\n",
              "      <th>9</th>\n",
              "      <td>210055692582</td>\n",
              "      <td>2022</td>\n",
              "      <td>2</td>\n",
              "      <td>F</td>\n",
              "      <td>1</td>\n",
              "      <td>1</td>\n",
              "      <td>1</td>\n",
              "      <td>2</td>\n",
              "      <td>0</td>\n",
              "      <td>3</td>\n",
              "      <td>...</td>\n",
              "      <td>1</td>\n",
              "      <td>1</td>\n",
              "      <td>0</td>\n",
              "      <td>0</td>\n",
              "      <td>1</td>\n",
              "      <td>0</td>\n",
              "      <td>1</td>\n",
              "      <td>2</td>\n",
              "      <td>2</td>\n",
              "      <td>1</td>\n",
              "    </tr>\n",
              "    <tr>\n",
              "      <th>11</th>\n",
              "      <td>210055454458</td>\n",
              "      <td>2022</td>\n",
              "      <td>3</td>\n",
              "      <td>F</td>\n",
              "      <td>1</td>\n",
              "      <td>1</td>\n",
              "      <td>1</td>\n",
              "      <td>2</td>\n",
              "      <td>0</td>\n",
              "      <td>2</td>\n",
              "      <td>...</td>\n",
              "      <td>2</td>\n",
              "      <td>1</td>\n",
              "      <td>1</td>\n",
              "      <td>0</td>\n",
              "      <td>1</td>\n",
              "      <td>0</td>\n",
              "      <td>1</td>\n",
              "      <td>2</td>\n",
              "      <td>1</td>\n",
              "      <td>1</td>\n",
              "    </tr>\n",
              "    <tr>\n",
              "      <th>12</th>\n",
              "      <td>210054664066</td>\n",
              "      <td>2022</td>\n",
              "      <td>2</td>\n",
              "      <td>F</td>\n",
              "      <td>1</td>\n",
              "      <td>2</td>\n",
              "      <td>1</td>\n",
              "      <td>2</td>\n",
              "      <td>0</td>\n",
              "      <td>2</td>\n",
              "      <td>...</td>\n",
              "      <td>1</td>\n",
              "      <td>0</td>\n",
              "      <td>0</td>\n",
              "      <td>0</td>\n",
              "      <td>0</td>\n",
              "      <td>0</td>\n",
              "      <td>1</td>\n",
              "      <td>2</td>\n",
              "      <td>1</td>\n",
              "      <td>1</td>\n",
              "    </tr>\n",
              "  </tbody>\n",
              "</table>\n",
              "<p>5 rows × 99 columns</p>\n",
              "</div>\n",
              "      <button class=\"colab-df-convert\" onclick=\"convertToInteractive('df-aa60db7e-dd28-4be3-9b11-8f7fbcfb0d04')\"\n",
              "              title=\"Convert this dataframe to an interactive table.\"\n",
              "              style=\"display:none;\">\n",
              "        \n",
              "  <svg xmlns=\"http://www.w3.org/2000/svg\" height=\"24px\"viewBox=\"0 0 24 24\"\n",
              "       width=\"24px\">\n",
              "    <path d=\"M0 0h24v24H0V0z\" fill=\"none\"/>\n",
              "    <path d=\"M18.56 5.44l.94 2.06.94-2.06 2.06-.94-2.06-.94-.94-2.06-.94 2.06-2.06.94zm-11 1L8.5 8.5l.94-2.06 2.06-.94-2.06-.94L8.5 2.5l-.94 2.06-2.06.94zm10 10l.94 2.06.94-2.06 2.06-.94-2.06-.94-.94-2.06-.94 2.06-2.06.94z\"/><path d=\"M17.41 7.96l-1.37-1.37c-.4-.4-.92-.59-1.43-.59-.52 0-1.04.2-1.43.59L10.3 9.45l-7.72 7.72c-.78.78-.78 2.05 0 2.83L4 21.41c.39.39.9.59 1.41.59.51 0 1.02-.2 1.41-.59l7.78-7.78 2.81-2.81c.8-.78.8-2.07 0-2.86zM5.41 20L4 18.59l7.72-7.72 1.47 1.35L5.41 20z\"/>\n",
              "  </svg>\n",
              "      </button>\n",
              "      \n",
              "  <style>\n",
              "    .colab-df-container {\n",
              "      display:flex;\n",
              "      flex-wrap:wrap;\n",
              "      gap: 12px;\n",
              "    }\n",
              "\n",
              "    .colab-df-convert {\n",
              "      background-color: #E8F0FE;\n",
              "      border: none;\n",
              "      border-radius: 50%;\n",
              "      cursor: pointer;\n",
              "      display: none;\n",
              "      fill: #1967D2;\n",
              "      height: 32px;\n",
              "      padding: 0 0 0 0;\n",
              "      width: 32px;\n",
              "    }\n",
              "\n",
              "    .colab-df-convert:hover {\n",
              "      background-color: #E2EBFA;\n",
              "      box-shadow: 0px 1px 2px rgba(60, 64, 67, 0.3), 0px 1px 3px 1px rgba(60, 64, 67, 0.15);\n",
              "      fill: #174EA6;\n",
              "    }\n",
              "\n",
              "    [theme=dark] .colab-df-convert {\n",
              "      background-color: #3B4455;\n",
              "      fill: #D2E3FC;\n",
              "    }\n",
              "\n",
              "    [theme=dark] .colab-df-convert:hover {\n",
              "      background-color: #434B5C;\n",
              "      box-shadow: 0px 1px 3px 1px rgba(0, 0, 0, 0.15);\n",
              "      filter: drop-shadow(0px 1px 2px rgba(0, 0, 0, 0.3));\n",
              "      fill: #FFFFFF;\n",
              "    }\n",
              "  </style>\n",
              "\n",
              "      <script>\n",
              "        const buttonEl =\n",
              "          document.querySelector('#df-aa60db7e-dd28-4be3-9b11-8f7fbcfb0d04 button.colab-df-convert');\n",
              "        buttonEl.style.display =\n",
              "          google.colab.kernel.accessAllowed ? 'block' : 'none';\n",
              "\n",
              "        async function convertToInteractive(key) {\n",
              "          const element = document.querySelector('#df-aa60db7e-dd28-4be3-9b11-8f7fbcfb0d04');\n",
              "          const dataTable =\n",
              "            await google.colab.kernel.invokeFunction('convertToInteractive',\n",
              "                                                     [key], {});\n",
              "          if (!dataTable) return;\n",
              "\n",
              "          const docLinkHtml = 'Like what you see? Visit the ' +\n",
              "            '<a target=\"_blank\" href=https://colab.research.google.com/notebooks/data_table.ipynb>data table notebook</a>'\n",
              "            + ' to learn more about interactive tables.';\n",
              "          element.innerHTML = '';\n",
              "          dataTable['output_type'] = 'display_data';\n",
              "          await google.colab.output.renderOutput(dataTable, element);\n",
              "          const docLink = document.createElement('div');\n",
              "          docLink.innerHTML = docLinkHtml;\n",
              "          element.appendChild(docLink);\n",
              "        }\n",
              "      </script>\n",
              "    </div>\n",
              "  </div>\n",
              "  "
            ]
          },
          "metadata": {},
          "execution_count": 227
        }
      ]
    },
    {
      "cell_type": "markdown",
      "source": [
        "Com (alguns) dados convertidos para valores numéricos, podemos iniciar a avaliação de influência das colunas numéricas sobre a nota de matemática.\n",
        "\n",
        "Uma forma de avaliar isso, é por meio do coeficiente de correlação.\n",
        "\n",
        "Nessa métrica, os resultados variam de -1 até 1, e significam:\n",
        "\n",
        "* 1 - Dados totalmente correlatos (se um sobe, o outro também, em igual proporção)\n",
        "* 0 - Dados não correlatos (sem relação alguma)\n",
        "* -1 Dados inversamente correlatos (se um sobe, o outro desce em igual proporção).\n",
        "\n",
        "Assim, as colunas que nos interessam vão ter os valores mais próximos de 1 ou -1. Valores próximos de 0 podem ser considerados \"ruídos\", e atrapalhar a predição.\n",
        "\n",
        "> Notem: essa é apenas 1 abordagem bem simples de avaliação. Há várias outras formas de definir quais colunas são importantes para o modelo, como avaliação gráfica com relplot (seaborn), uso de métodos de redução de dimensionalidade, como PCA, etc.. "
      ],
      "metadata": {
        "id": "QMdwvcUDMnbH"
      }
    },
    {
      "cell_type": "code",
      "source": [],
      "metadata": {
        "id": "4YCEkdpcKcZf"
      },
      "execution_count": null,
      "outputs": []
    },
    {
      "cell_type": "markdown",
      "source": [
        "Assim, vamos considerar as 10 melhores colunas:\n",
        "\n",
        "* Notas nas outras provas\n",
        "* Nota na redação (retiramos os componentes da nota da redação)\n",
        "* Respostas do questionário:\n",
        "  * Tem computador na residência? (Q024)\n",
        "  * Renda mensal da família (Q006)\n",
        "  * Número de banheiros na residência (Q008)\n",
        "  * Escolaridade do pai (Q001)\n",
        "  * Escolaridade da mãe (Q002)\n",
        "  * Número de carros na residência (Q010) \n",
        "\n",
        "TP_DEPENDENCIA_ADM_ESC parece auxiliar, mas os dados são categóricos e estão numéricamente ordenados. Então, é uma coincidência. Vamos retirar este campo também.\n",
        "\n",
        "Selecionando somente essas colunas:"
      ],
      "metadata": {
        "id": "H_3c_HFVO_wp"
      }
    },
    {
      "cell_type": "code",
      "source": [
        "melhores_colunas = ['NU_NOTA_CN',\n",
        "                    'NU_NOTA_LC',\n",
        "                    'NU_NOTA_CH',\n",
        "                    'NU_NOTA_REDACAO',\n",
        "                    'Q024_NUM',\n",
        "                    'Q006_NUM',\n",
        "                    'Q008_NUM',\n",
        "                    'Q001_NUM',\n",
        "                    'Q002_NUM',\n",
        "                    'Q010_NUM',\n",
        "                    'NU_NOTA_MT']\n"
      ],
      "metadata": {
        "id": "nVOO8kRbO4lt"
      },
      "execution_count": null,
      "outputs": []
    },
    {
      "cell_type": "code",
      "source": [],
      "metadata": {
        "id": "tgPgF3B_Q0HI"
      },
      "execution_count": null,
      "outputs": []
    },
    {
      "cell_type": "markdown",
      "source": [
        "## Treinar um modelo de Machine Learning\n",
        "\n",
        "Aqui, o objetivo não é entender o funcionamento de algoritmos de machine learning, nem mesmo gerar uma resposta ótima para o problema.\n",
        "\n",
        "Nosso objetivo é criar um preditor razoável, e ilustrar os passos para sua construção, que são:\n",
        "\n",
        "* Separação dos dados selecionados em dois grupos: treino e teste\n",
        "* Utilização dos dados para treinar um modelo de ML\n",
        "* Teste dos resultados obtidos\n",
        "\n",
        "\n"
      ],
      "metadata": {
        "id": "Qf7NiOBKRFed"
      }
    },
    {
      "cell_type": "markdown",
      "source": [
        "### Separação em treino e teste\n",
        "\n",
        "Vamos utilizar a biblioteca scikit-learn, que é uma ferramenta de aprendizado de máquina em Python que oferece uma ampla gama de algoritmos e funcionalidades para tarefas de classificação, regressão, agrupamento, pré-processamento de dados e avaliação de modelos.\n",
        "\n",
        "Primeiro, separamos nossos dados_selecionados em 2 variáveis X (variáveis independentes, quem vai ajudar a prever) e y (variável dependente, quem queremos prever).\n",
        "\n",
        "Pra isso, vamos usar a função .drop(), e selecionar o y diretamente pela coluna:"
      ],
      "metadata": {
        "id": "YjmIrWhvR1vk"
      }
    },
    {
      "cell_type": "code",
      "source": [],
      "metadata": {
        "id": "xwleSKRDSN2T"
      },
      "execution_count": null,
      "outputs": []
    },
    {
      "cell_type": "markdown",
      "source": [
        "Agora, podemos dividir em treino e teste:"
      ],
      "metadata": {
        "id": "0Aj8Fdz2TANW"
      }
    },
    {
      "cell_type": "code",
      "source": [],
      "metadata": {
        "id": "FZTQwfUoQ-v9"
      },
      "execution_count": null,
      "outputs": []
    },
    {
      "cell_type": "markdown",
      "source": [
        "### Treinamento do modelo:\n",
        "\n",
        "Com os dados separados, vamos treinar um modelo. Utilizaremos o Random Forest com parametro max_depht=10:"
      ],
      "metadata": {
        "id": "6WGKwQrrTLaN"
      }
    },
    {
      "cell_type": "code",
      "source": [],
      "metadata": {
        "id": "j_Ty3tsATIXQ"
      },
      "execution_count": null,
      "outputs": []
    },
    {
      "cell_type": "markdown",
      "source": [
        "Com o modelo importado e carregado, na variável rf, podemos treiná-lo com o método fit(), passando como parametro o X_treino e y_treino:"
      ],
      "metadata": {
        "id": "UaBeq8DwTaJi"
      }
    },
    {
      "cell_type": "code",
      "source": [],
      "metadata": {
        "id": "Jvf5oTydTiHF"
      },
      "execution_count": null,
      "outputs": []
    },
    {
      "cell_type": "markdown",
      "source": [
        "Com o modelo treinado, podemos gerar previsões com o método \"predict()\""
      ],
      "metadata": {
        "id": "b4Wcput7VSdn"
      }
    },
    {
      "cell_type": "code",
      "source": [],
      "metadata": {
        "id": "QL-drvgnVLg2"
      },
      "execution_count": null,
      "outputs": []
    },
    {
      "cell_type": "markdown",
      "source": [
        "### Testando o modelo:\n",
        "\n",
        "Com o modelo já treinado, vamos testar sua eficiência. Para isso, vamos utilizar 2 métricas:\n",
        "\n",
        "* R2 Score - Quanto mais perto de 1, melhor.\n",
        "* RMSE - Raiz do erro quadrático médio - Quanto menor, melhor (métrica na mesma \"medida\" que a nota que estamos prevendo)\n",
        "\n",
        "Também usando o sklearn:"
      ],
      "metadata": {
        "id": "O6lQBVquUhfe"
      }
    },
    {
      "cell_type": "code",
      "source": [],
      "metadata": {
        "id": "9c9z1udITxTI"
      },
      "execution_count": null,
      "outputs": []
    },
    {
      "cell_type": "markdown",
      "source": [
        "Calculando o R2 Score do modelo com os dados de **treino**:"
      ],
      "metadata": {
        "id": "5QwznRioVkEo"
      }
    },
    {
      "cell_type": "code",
      "source": [],
      "metadata": {
        "id": "eHfe7BspVDkW"
      },
      "execution_count": null,
      "outputs": []
    },
    {
      "cell_type": "markdown",
      "source": [
        "Calculando o RMSE do modelo com os dados de **treino**:"
      ],
      "metadata": {
        "id": "WxCM3CARVvgq"
      }
    },
    {
      "cell_type": "code",
      "source": [],
      "metadata": {
        "id": "sedqhmxxVu29"
      },
      "execution_count": null,
      "outputs": []
    },
    {
      "cell_type": "markdown",
      "source": [
        "Calculando o R2 Score do modelo com os dados de **teste**:"
      ],
      "metadata": {
        "id": "ayeL-grWVpzb"
      }
    },
    {
      "cell_type": "code",
      "source": [],
      "metadata": {
        "id": "27yaJRQhVs1y"
      },
      "execution_count": null,
      "outputs": []
    },
    {
      "cell_type": "markdown",
      "source": [
        "Calculando o RMSE do modelo com os dados de **teste**:"
      ],
      "metadata": {
        "id": "nJV16jXrWhYK"
      }
    },
    {
      "cell_type": "code",
      "source": [],
      "metadata": {
        "id": "uYAmAt_iWhw2"
      },
      "execution_count": null,
      "outputs": []
    },
    {
      "cell_type": "markdown",
      "source": [
        "## Aplicando o modelo em uma GUI simples\n"
      ],
      "metadata": {
        "id": "sMPVJkiXXnXH"
      }
    },
    {
      "cell_type": "code",
      "source": [
        "def converte_valores_categoricos(entrada):\n",
        "    dict_estudo_pais = {\n",
        "        'Nunca estudou' : 0,\n",
        "        'Não completou 4a serie/5o ano do Ensino Fundamental' : 2,\n",
        "        'Completou 4a serie/5o ano, mas não completou a 8a serie/9o ano do Ensino Fundamental' : 3,\n",
        "        'Completou a 8a serie/9o ano do Ensino Fundamental, mas não completou o Ensino Médio' : 4,\n",
        "        'Completou o Ensino Médio, mas não completou a Faculdade' : 5,\n",
        "        'Completou a Faculdade, mas não completou Pós-Graduação' : 6,\n",
        "        'Completou a Pós-Graduação.' : 7,\n",
        "        'Não sei' : 1,\n",
        "    }\n",
        "    \n",
        "    dict_renda = {\n",
        "        'Nenhuma Renda' : 0,\n",
        "        'Até R$ 1.100,00' : 1100,\n",
        "        'De R$ 1.100,01 até R$ 1.650,00' : 1650,\n",
        "        'De R$ 1.650,01 até R$ 2.200,00' : 2200,\n",
        "        'De R$ 2.200,01 até R$ 2.750,00' : 2750,\n",
        "        'De R$ 2.750,01 até R$ 3.300,00' : 3300,\n",
        "        'De R$ 3.300,01 até R$ 4.400,00' : 4400,\n",
        "        'De R$ 4.400,01 até R$ 5.500,00' : 5500,\n",
        "        'De R$ 5.500,01 até R$ 6.600,00' : 6600,\n",
        "        'De R$ 6.600,01 até R$ 7.700,00' : 7700,\n",
        "        'De R$ 7.700,01 até R$ 8.800,00' : 8800,\n",
        "        'De R$ 8.800,01 até R$ 9.900,00' : 9900,\n",
        "        'De R$ 9.900,01 até R$ 11.000,00' : 11000,\n",
        "        'De R$ 11.000,01 até R$ 13.200,00' : 13200,\n",
        "        'De R$ 13.200,01 até R$ 16.500,00' : 16500,\n",
        "        'De R$ 16.500,01 até R$ 22.000,00' : 22000,\n",
        "        'Acima de R$ 22.000,00' : 30000,\n",
        "    }\n",
        "\n",
        "    entrada['Q001_NUM'] = entrada['Q001_NUM'].map(dict_estudo_pais)\n",
        "    entrada['Q002_NUM'] = entrada['Q002_NUM'].map(dict_estudo_pais)\n",
        "    \n",
        "    entrada['Q006_NUM'] = entrada['Q006_NUM'].map(dict_renda)"
      ],
      "metadata": {
        "id": "EoXPez6OXwnA"
      },
      "execution_count": null,
      "outputs": []
    },
    {
      "cell_type": "code",
      "source": [
        "def prever_nota_mat(entrada):\n",
        "  \n",
        "  #implementar\n",
        "  pass\n",
        "    "
      ],
      "metadata": {
        "id": "fgyIpjytX3R9"
      },
      "execution_count": null,
      "outputs": []
    },
    {
      "cell_type": "code",
      "source": [
        "# Configuring the window with ipywidgets and IPython.display\n",
        "\n",
        "from ipywidgets import widgets, HBox, VBox, Layout\n",
        "from IPython.display import display\n",
        "\n",
        "# Creating form controls\n",
        "\n",
        "# nota_cn = widgets.Dropdown(options=step1.manufacturer.unique(), description='Manufacturer')\n",
        "\n",
        "nota_cn = widgets.Text( description='Nota Ciências Naturais', style= {'description_width': 'initial'})\n",
        "nota_lc = widgets.Text(description=\"Nota Linguagens e Códigos\", style= {'description_width': 'initial'})\n",
        "nota_ch = widgets.Text(description=\"Nota Ciências Humanas\", style= {'description_width': 'initial'})\n",
        "nota_redacao = widgets.Text(description=\"Nota Redação\", style= {'description_width': 'initial'})\n",
        "\n",
        "n_computador = widgets.Dropdown(options=sorted(dados.Q024_NUM.unique()), description='# Computadores (Q024)', style= {'description_width': 'initial'})\n",
        "renda_familia = widgets.Dropdown(options=sorted(dados.Q006_COMP.unique()), description=\"Renda Familiar (Q006)\", style= {'description_width': 'initial'})\n",
        "n_banheiros = widgets.Dropdown(options=sorted(dados.Q008_NUM.unique()), description=\"# Banheiros (Q008)\", style= {'description_width': 'initial'})\n",
        "n_carro = widgets.Dropdown(options=sorted(dados.Q010_NUM.unique()), description=\"# Carros (Q010)\", style= {'description_width': 'initial'})\n",
        "estudos_pai = widgets.Dropdown(options=sorted(dados.Q001_COMP.unique()), description=\"Estudos Pai (Q001)\", style= {'description_width': 'initial'})\n",
        "estudos_mae = widgets.Dropdown(options=sorted(dados.Q002_COMP.unique()), description=\"Estudos Mãe (Q002)\", style= {'description_width': 'initial'})\n",
        "\n",
        "button = widgets.Button(description=\"Prever\")\n",
        "\n",
        "# Positioning the controls\n",
        "title = widgets.HTML('<h2>Estimador de Nota de Matemática:</h2>')\n",
        "left = VBox([nota_cn, nota_lc, nota_ch, nota_redacao])\n",
        "right = VBox([n_computador, n_banheiros, n_carro, renda_familia, estudos_pai, estudos_mae])\n",
        "inputs = HBox([left, right])\n",
        "\n",
        "# Prediction function\n",
        "def simulator(sender):\n",
        "    input_dados = pd.DataFrame([[\n",
        "                           nota_cn.value if nota_cn.value else 0, \n",
        "                           nota_lc.value if nota_lc.value else 0,\n",
        "                           nota_ch.value if nota_ch.value else 0,\n",
        "                           nota_redacao.value if nota_redacao.value else 0,                    \n",
        "                           int(n_computador.value if n_computador.value else 0),\n",
        "                           renda_familia.value if renda_familia.value else 0,\n",
        "                           int(n_banheiros.value if n_banheiros.value else 0),\n",
        "                           estudos_pai.value if estudos_pai.value else 0,\n",
        "                           estudos_mae.value if estudos_mae.value else 0,\n",
        "                           int(n_carro.value if n_carro.value else 0)\n",
        "                           ]], columns=['NU_NOTA_CN', 'NU_NOTA_LC', 'NU_NOTA_CH', 'NU_NOTA_REDACAO', \n",
        "                                         'Q024_NUM', 'Q006_NUM', 'Q008_NUM', \n",
        "                                         'Q001_NUM', 'Q002_NUM', 'Q010_NUM'])\n",
        "\n",
        "#     prever_nota_mat(input_dados)\n",
        "    print(f'\\n -> Nota de matematica: {prever_nota_mat(input_dados)[0]} \\n')\n",
        "    \n",
        "    \n",
        "# Atribuir a função  \"simulator\" ao evento de clicar o botão\n",
        "button.on_click(simulator)  "
      ],
      "metadata": {
        "id": "hL6G75haX6GH"
      },
      "execution_count": null,
      "outputs": []
    },
    {
      "cell_type": "code",
      "source": [
        "# Mostra a GUI\n",
        "\n",
        "display(title, inputs, button)"
      ],
      "metadata": {
        "id": "yfT2YHFLX-VO"
      },
      "execution_count": null,
      "outputs": []
    },
    {
      "cell_type": "code",
      "source": [
        "# Para testar manualmente, comparando com o resultado do preditor..\n",
        "# substituir o valor de i:\n",
        "\n",
        "i = 1\n",
        "print(X.iloc[i])\n",
        "print()\n",
        "print('y_teste: ', y_teste.iloc[i])"
      ],
      "metadata": {
        "id": "vkmpyUAqYHu1"
      },
      "execution_count": null,
      "outputs": []
    }
  ]
}